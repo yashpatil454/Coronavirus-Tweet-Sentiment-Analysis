{
  "nbformat": 4,
  "nbformat_minor": 0,
  "metadata": {
    "colab": {
      "provenance": [],
      "authorship_tag": "ABX9TyNGG+zY7fzvfcAyCad4CUm7",
      "include_colab_link": true
    },
    "kernelspec": {
      "name": "python3",
      "display_name": "Python 3"
    },
    "language_info": {
      "name": "python"
    },
    "gpuClass": "standard"
  },
  "cells": [
    {
      "cell_type": "markdown",
      "metadata": {
        "id": "view-in-github",
        "colab_type": "text"
      },
      "source": [
        "<a href=\"https://colab.research.google.com/github/yashpatil454/Coronavirus-Tweet-Sentiment-Analysis/blob/main/Coronavirus_Tweet_Sentiment_Analysis.ipynb\" target=\"_parent\"><img src=\"https://colab.research.google.com/assets/colab-badge.svg\" alt=\"Open In Colab\"/></a>"
      ]
    },
    {
      "cell_type": "markdown",
      "source": [
        "* Modify approach \\ revise this\n",
        "* refer almabetter chart flow \\ revise this\n",
        "* word cloud\n",
        "* write conclusion \\ revise this\n",
        "Write down the accuracy improvement by different approaches (class imbalance, lemmetization, PCA if implemented)"
      ],
      "metadata": {
        "id": "oKQn4DmGPn-w"
      }
    },
    {
      "cell_type": "markdown",
      "metadata": {
        "id": "D-_C0nX9Tq1t"
      },
      "source": [
        "# <b><u> Project Title : NLP Sentiment Analysis : Coronavirus Tweet Sentiment Analysis</u></b>\n",
        "\n",
        "##Project Type: Classification"
      ]
    },
    {
      "cell_type": "markdown",
      "metadata": {
        "id": "Y06xIdG26kRF"
      },
      "source": [
        "## <b> Problem Description </b>\n",
        "\n",
        "### Coronavirus Tweet Sentiment Analysis NLP project aims to classify tweets related to Coronavirus into three categories: negative, neutral, and positive using natural language processing techniques such as sentiment analysis, text classification, and machine learning algorithms. The goal is to gain a better understanding of the overall sentiment of tweets related to Coronavirus and how it is changing over time, and also identify any trending topics or concerns related to Coronavirus that may be of particular concern to the public. Data visualization tools will be used to present the results in an easily understandable format, making it useful for public health officials, researchers, and other stakeholders in the fight against the pandemic."
      ]
    },
    {
      "cell_type": "markdown",
      "metadata": {
        "id": "WWeU1f9bwqQq"
      },
      "source": [
        "## <b> Data Description </b>\n",
        "\n",
        "### <b>Coronavirus Tweets.csv </b> - tweets data\n",
        "\n",
        "\n",
        "### <b><u>Data fields</u></b>\n",
        "### Most of the fields are self-explanatory. The following are descriptions for those that aren't.\n",
        "\n",
        "* #### Username - coded Username\n",
        "* #### ScreenName - coded ScreenName\n",
        "* #### Location - Region of origin\n",
        "* #### TweetAt - Tweet Timing\n",
        "* #### OriginalTweet - First tweet in the thread\n",
        "* #### Sentiment-Target variable - Sentiment of the tweet"
      ]
    },
    {
      "cell_type": "markdown",
      "source": [
        "###Github link: https://github.com/yashpatil454/Coronavirus-Tweet-Sentiment-Analysis"
      ],
      "metadata": {
        "id": "DFW-OpD_RFzP"
      }
    },
    {
      "cell_type": "markdown",
      "metadata": {
        "id": "7Zd6JL4FpFj6"
      },
      "source": [
        "##Approach\n",
        "* ### Problem Description\n",
        "* ### Data Collection and Preprocessing\n",
        "      - Importing important libraries and modules\n",
        "      - Understanding the Data\n",
        "      - Data Cleaning\n",
        "      - Missing Data Handling\n",
        "* ### Exploratory Data Analysis\n",
        "      - EDA with Observations\n",
        "* ### Feature Engineering\n",
        "      - Data Preprocessing\n",
        "      - Lemmatization\n",
        "      - Handling Class Imbalance\n",
        "      - Vectorization\n",
        "* ### Modeling\n",
        "      - Train Test Split\n",
        "      - Logistic Regression Model\n",
        "      - Random Forest Model\n",
        "      - Support Vector Classification\n",
        "        - One Vs One Classifier\n",
        "        - One Vs Rest Classifier\n",
        "      - Multinomial Naive Bayes\n",
        "* ### Model Performance and Evaluation\n",
        "        - Visualizing Model Performances\n",
        "* ### Conclusion and Recommendations"
      ]
    },
    {
      "cell_type": "code",
      "source": [
        "!pip install nltk"
      ],
      "metadata": {
        "colab": {
          "base_uri": "https://localhost:8080/"
        },
        "id": "ntk6WRoWKVyc",
        "outputId": "f426ba0d-5a88-482f-eb23-32837891bdb2"
      },
      "execution_count": 45,
      "outputs": [
        {
          "output_type": "stream",
          "name": "stdout",
          "text": [
            "Looking in indexes: https://pypi.org/simple, https://us-python.pkg.dev/colab-wheels/public/simple/\n",
            "Requirement already satisfied: nltk in /usr/local/lib/python3.8/dist-packages (3.7)\n",
            "Requirement already satisfied: regex>=2021.8.3 in /usr/local/lib/python3.8/dist-packages (from nltk) (2022.6.2)\n",
            "Requirement already satisfied: joblib in /usr/local/lib/python3.8/dist-packages (from nltk) (1.2.0)\n",
            "Requirement already satisfied: tqdm in /usr/local/lib/python3.8/dist-packages (from nltk) (4.64.1)\n",
            "Requirement already satisfied: click in /usr/local/lib/python3.8/dist-packages (from nltk) (7.1.2)\n"
          ]
        }
      ]
    },
    {
      "cell_type": "code",
      "execution_count": 46,
      "metadata": {
        "id": "MQBuxJl831gX",
        "colab": {
          "base_uri": "https://localhost:8080/"
        },
        "outputId": "bdcf702c-5c13-4369-c5a6-fb980bcdc6eb"
      },
      "outputs": [
        {
          "output_type": "stream",
          "name": "stderr",
          "text": [
            "[nltk_data] Downloading package stopwords to /root/nltk_data...\n",
            "[nltk_data]   Package stopwords is already up-to-date!\n",
            "[nltk_data] Downloading package wordnet to /root/nltk_data...\n",
            "[nltk_data]   Package wordnet is already up-to-date!\n",
            "[nltk_data] Downloading package omw-1.4 to /root/nltk_data...\n",
            "[nltk_data]   Package omw-1.4 is already up-to-date!\n"
          ]
        }
      ],
      "source": [
        "#Importing important libraries and modules\n",
        "import pandas as pd\n",
        "import numpy as np\n",
        "import seaborn as sns\n",
        "import re \n",
        "import pickle\n",
        "import matplotlib.pyplot as plt\n",
        "%matplotlib inline\n",
        "from sklearn.utils import resample\n",
        "#Importing NLP libraries \n",
        "import nltk\n",
        "nltk.download('stopwords')\n",
        "nltk.download('wordnet')\n",
        "nltk.download('omw-1.4')\n",
        "from nltk.corpus import stopwords\n",
        "from sklearn.feature_extraction.text import TfidfVectorizer\n",
        "from nltk.stem import WordNetLemmatizer\n",
        "#Importing ML libraries\n",
        "from sklearn.ensemble import RandomForestClassifier\n",
        "from sklearn.linear_model import LogisticRegression\n",
        "from sklearn.model_selection import RandomizedSearchCV\n",
        "from sklearn.svm import SVC\n",
        "from sklearn.multiclass import OneVsOneClassifier\n",
        "from sklearn.multiclass import OneVsRestClassifier\n",
        "from sklearn.naive_bayes import MultinomialNB\n",
        "from sklearn.model_selection import train_test_split\n",
        "from sklearn.metrics import make_scorer, accuracy_score\n",
        "from sklearn.metrics import confusion_matrix\n",
        "from sklearn.metrics import classification_report\n",
        "#The default figure size to 8 inches by 5 inches and the figure resolution (dots per inch) to 100.\n",
        "plt.rcParams.update({'figure.figsize':(8,5),'figure.dpi':100})\n",
        "import warnings\n",
        "warnings.filterwarnings('ignore')"
      ]
    },
    {
      "cell_type": "code",
      "execution_count": 47,
      "metadata": {
        "colab": {
          "base_uri": "https://localhost:8080/"
        },
        "id": "dByMsuzT8Tnw",
        "outputId": "ce4570df-9119-413c-a9f4-63d280e87a9d"
      },
      "outputs": [
        {
          "output_type": "stream",
          "name": "stdout",
          "text": [
            "Drive already mounted at /content/gdrive; to attempt to forcibly remount, call drive.mount(\"/content/gdrive\", force_remount=True).\n"
          ]
        }
      ],
      "source": [
        "#Mounting drive and pulling the data.csv\n",
        "from google.colab import drive\n",
        "drive.mount('/content/gdrive')\n",
        "df = pd.read_csv('/content/gdrive/MyDrive/Coronavirus Tweet Sentiment Analysis/Coronavirus Tweets.csv', encoding='latin-1')"
      ]
    },
    {
      "cell_type": "markdown",
      "metadata": {
        "id": "um82XMmLByPe"
      },
      "source": [
        "##Understanding the Data"
      ]
    },
    {
      "cell_type": "code",
      "source": [
        "df.head()"
      ],
      "metadata": {
        "colab": {
          "base_uri": "https://localhost:8080/",
          "height": 206
        },
        "id": "evZAYfQDQClw",
        "outputId": "59000657-5a06-4112-f2c5-a2f76253f0c3"
      },
      "execution_count": 48,
      "outputs": [
        {
          "output_type": "execute_result",
          "data": {
            "text/plain": [
              "   UserName  ScreenName   Location     TweetAt  \\\n",
              "0      3799       48751     London  16-03-2020   \n",
              "1      3800       48752         UK  16-03-2020   \n",
              "2      3801       48753  Vagabonds  16-03-2020   \n",
              "3      3802       48754        NaN  16-03-2020   \n",
              "4      3803       48755        NaN  16-03-2020   \n",
              "\n",
              "                                       OriginalTweet           Sentiment  \n",
              "0  @MeNyrbie @Phil_Gahan @Chrisitv https://t.co/i...             Neutral  \n",
              "1  advice Talk to your neighbours family to excha...            Positive  \n",
              "2  Coronavirus Australia: Woolworths to give elde...            Positive  \n",
              "3  My food stock is not the only one which is emp...            Positive  \n",
              "4  Me, ready to go at supermarket during the #COV...  Extremely Negative  "
            ],
            "text/html": [
              "\n",
              "  <div id=\"df-a7e553ad-7015-454a-af5d-e3ea2afda6c5\">\n",
              "    <div class=\"colab-df-container\">\n",
              "      <div>\n",
              "<style scoped>\n",
              "    .dataframe tbody tr th:only-of-type {\n",
              "        vertical-align: middle;\n",
              "    }\n",
              "\n",
              "    .dataframe tbody tr th {\n",
              "        vertical-align: top;\n",
              "    }\n",
              "\n",
              "    .dataframe thead th {\n",
              "        text-align: right;\n",
              "    }\n",
              "</style>\n",
              "<table border=\"1\" class=\"dataframe\">\n",
              "  <thead>\n",
              "    <tr style=\"text-align: right;\">\n",
              "      <th></th>\n",
              "      <th>UserName</th>\n",
              "      <th>ScreenName</th>\n",
              "      <th>Location</th>\n",
              "      <th>TweetAt</th>\n",
              "      <th>OriginalTweet</th>\n",
              "      <th>Sentiment</th>\n",
              "    </tr>\n",
              "  </thead>\n",
              "  <tbody>\n",
              "    <tr>\n",
              "      <th>0</th>\n",
              "      <td>3799</td>\n",
              "      <td>48751</td>\n",
              "      <td>London</td>\n",
              "      <td>16-03-2020</td>\n",
              "      <td>@MeNyrbie @Phil_Gahan @Chrisitv https://t.co/i...</td>\n",
              "      <td>Neutral</td>\n",
              "    </tr>\n",
              "    <tr>\n",
              "      <th>1</th>\n",
              "      <td>3800</td>\n",
              "      <td>48752</td>\n",
              "      <td>UK</td>\n",
              "      <td>16-03-2020</td>\n",
              "      <td>advice Talk to your neighbours family to excha...</td>\n",
              "      <td>Positive</td>\n",
              "    </tr>\n",
              "    <tr>\n",
              "      <th>2</th>\n",
              "      <td>3801</td>\n",
              "      <td>48753</td>\n",
              "      <td>Vagabonds</td>\n",
              "      <td>16-03-2020</td>\n",
              "      <td>Coronavirus Australia: Woolworths to give elde...</td>\n",
              "      <td>Positive</td>\n",
              "    </tr>\n",
              "    <tr>\n",
              "      <th>3</th>\n",
              "      <td>3802</td>\n",
              "      <td>48754</td>\n",
              "      <td>NaN</td>\n",
              "      <td>16-03-2020</td>\n",
              "      <td>My food stock is not the only one which is emp...</td>\n",
              "      <td>Positive</td>\n",
              "    </tr>\n",
              "    <tr>\n",
              "      <th>4</th>\n",
              "      <td>3803</td>\n",
              "      <td>48755</td>\n",
              "      <td>NaN</td>\n",
              "      <td>16-03-2020</td>\n",
              "      <td>Me, ready to go at supermarket during the #COV...</td>\n",
              "      <td>Extremely Negative</td>\n",
              "    </tr>\n",
              "  </tbody>\n",
              "</table>\n",
              "</div>\n",
              "      <button class=\"colab-df-convert\" onclick=\"convertToInteractive('df-a7e553ad-7015-454a-af5d-e3ea2afda6c5')\"\n",
              "              title=\"Convert this dataframe to an interactive table.\"\n",
              "              style=\"display:none;\">\n",
              "        \n",
              "  <svg xmlns=\"http://www.w3.org/2000/svg\" height=\"24px\"viewBox=\"0 0 24 24\"\n",
              "       width=\"24px\">\n",
              "    <path d=\"M0 0h24v24H0V0z\" fill=\"none\"/>\n",
              "    <path d=\"M18.56 5.44l.94 2.06.94-2.06 2.06-.94-2.06-.94-.94-2.06-.94 2.06-2.06.94zm-11 1L8.5 8.5l.94-2.06 2.06-.94-2.06-.94L8.5 2.5l-.94 2.06-2.06.94zm10 10l.94 2.06.94-2.06 2.06-.94-2.06-.94-.94-2.06-.94 2.06-2.06.94z\"/><path d=\"M17.41 7.96l-1.37-1.37c-.4-.4-.92-.59-1.43-.59-.52 0-1.04.2-1.43.59L10.3 9.45l-7.72 7.72c-.78.78-.78 2.05 0 2.83L4 21.41c.39.39.9.59 1.41.59.51 0 1.02-.2 1.41-.59l7.78-7.78 2.81-2.81c.8-.78.8-2.07 0-2.86zM5.41 20L4 18.59l7.72-7.72 1.47 1.35L5.41 20z\"/>\n",
              "  </svg>\n",
              "      </button>\n",
              "      \n",
              "  <style>\n",
              "    .colab-df-container {\n",
              "      display:flex;\n",
              "      flex-wrap:wrap;\n",
              "      gap: 12px;\n",
              "    }\n",
              "\n",
              "    .colab-df-convert {\n",
              "      background-color: #E8F0FE;\n",
              "      border: none;\n",
              "      border-radius: 50%;\n",
              "      cursor: pointer;\n",
              "      display: none;\n",
              "      fill: #1967D2;\n",
              "      height: 32px;\n",
              "      padding: 0 0 0 0;\n",
              "      width: 32px;\n",
              "    }\n",
              "\n",
              "    .colab-df-convert:hover {\n",
              "      background-color: #E2EBFA;\n",
              "      box-shadow: 0px 1px 2px rgba(60, 64, 67, 0.3), 0px 1px 3px 1px rgba(60, 64, 67, 0.15);\n",
              "      fill: #174EA6;\n",
              "    }\n",
              "\n",
              "    [theme=dark] .colab-df-convert {\n",
              "      background-color: #3B4455;\n",
              "      fill: #D2E3FC;\n",
              "    }\n",
              "\n",
              "    [theme=dark] .colab-df-convert:hover {\n",
              "      background-color: #434B5C;\n",
              "      box-shadow: 0px 1px 3px 1px rgba(0, 0, 0, 0.15);\n",
              "      filter: drop-shadow(0px 1px 2px rgba(0, 0, 0, 0.3));\n",
              "      fill: #FFFFFF;\n",
              "    }\n",
              "  </style>\n",
              "\n",
              "      <script>\n",
              "        const buttonEl =\n",
              "          document.querySelector('#df-a7e553ad-7015-454a-af5d-e3ea2afda6c5 button.colab-df-convert');\n",
              "        buttonEl.style.display =\n",
              "          google.colab.kernel.accessAllowed ? 'block' : 'none';\n",
              "\n",
              "        async function convertToInteractive(key) {\n",
              "          const element = document.querySelector('#df-a7e553ad-7015-454a-af5d-e3ea2afda6c5');\n",
              "          const dataTable =\n",
              "            await google.colab.kernel.invokeFunction('convertToInteractive',\n",
              "                                                     [key], {});\n",
              "          if (!dataTable) return;\n",
              "\n",
              "          const docLinkHtml = 'Like what you see? Visit the ' +\n",
              "            '<a target=\"_blank\" href=https://colab.research.google.com/notebooks/data_table.ipynb>data table notebook</a>'\n",
              "            + ' to learn more about interactive tables.';\n",
              "          element.innerHTML = '';\n",
              "          dataTable['output_type'] = 'display_data';\n",
              "          await google.colab.output.renderOutput(dataTable, element);\n",
              "          const docLink = document.createElement('div');\n",
              "          docLink.innerHTML = docLinkHtml;\n",
              "          element.appendChild(docLink);\n",
              "        }\n",
              "      </script>\n",
              "    </div>\n",
              "  </div>\n",
              "  "
            ]
          },
          "metadata": {},
          "execution_count": 48
        }
      ]
    },
    {
      "cell_type": "code",
      "source": [
        "df.info()"
      ],
      "metadata": {
        "colab": {
          "base_uri": "https://localhost:8080/"
        },
        "id": "5MG4Imp9QDhO",
        "outputId": "e4f3c547-1f7c-4a6f-9f15-411caf1f6416"
      },
      "execution_count": 49,
      "outputs": [
        {
          "output_type": "stream",
          "name": "stdout",
          "text": [
            "<class 'pandas.core.frame.DataFrame'>\n",
            "RangeIndex: 41157 entries, 0 to 41156\n",
            "Data columns (total 6 columns):\n",
            " #   Column         Non-Null Count  Dtype \n",
            "---  ------         --------------  ----- \n",
            " 0   UserName       41157 non-null  int64 \n",
            " 1   ScreenName     41157 non-null  int64 \n",
            " 2   Location       32567 non-null  object\n",
            " 3   TweetAt        41157 non-null  object\n",
            " 4   OriginalTweet  41157 non-null  object\n",
            " 5   Sentiment      41157 non-null  object\n",
            "dtypes: int64(2), object(4)\n",
            "memory usage: 1.9+ MB\n"
          ]
        }
      ]
    },
    {
      "cell_type": "code",
      "source": [
        "df.shape"
      ],
      "metadata": {
        "colab": {
          "base_uri": "https://localhost:8080/"
        },
        "id": "sxLZSpYQRB-8",
        "outputId": "2f81ce51-5e7f-423f-f11e-85bb20ce83fc"
      },
      "execution_count": 50,
      "outputs": [
        {
          "output_type": "execute_result",
          "data": {
            "text/plain": [
              "(41157, 6)"
            ]
          },
          "metadata": {},
          "execution_count": 50
        }
      ]
    },
    {
      "cell_type": "code",
      "source": [
        "df['TweetAt'].value_counts()"
      ],
      "metadata": {
        "colab": {
          "base_uri": "https://localhost:8080/"
        },
        "id": "OWXyWUI63Yv5",
        "outputId": "b559d434-e67b-43ad-e2fa-60c1a78e32bb"
      },
      "execution_count": 51,
      "outputs": [
        {
          "output_type": "execute_result",
          "data": {
            "text/plain": [
              "20-03-2020    3448\n",
              "19-03-2020    3215\n",
              "25-03-2020    2979\n",
              "18-03-2020    2742\n",
              "21-03-2020    2653\n",
              "22-03-2020    2114\n",
              "23-03-2020    2062\n",
              "17-03-2020    1977\n",
              "08-04-2020    1881\n",
              "07-04-2020    1843\n",
              "06-04-2020    1742\n",
              "24-03-2020    1480\n",
              "09-04-2020    1471\n",
              "13-04-2020    1428\n",
              "26-03-2020    1277\n",
              "05-04-2020    1131\n",
              "10-04-2020    1005\n",
              "02-04-2020     954\n",
              "11-04-2020     909\n",
              "03-04-2020     810\n",
              "12-04-2020     803\n",
              "04-04-2020     767\n",
              "16-03-2020     656\n",
              "01-04-2020     630\n",
              "27-03-2020     345\n",
              "31-03-2020     316\n",
              "14-04-2020     284\n",
              "29-03-2020     125\n",
              "30-03-2020      87\n",
              "28-03-2020      23\n",
              "Name: TweetAt, dtype: int64"
            ]
          },
          "metadata": {},
          "execution_count": 51
        }
      ]
    },
    {
      "cell_type": "code",
      "source": [
        "df['Sentiment'].value_counts()"
      ],
      "metadata": {
        "colab": {
          "base_uri": "https://localhost:8080/"
        },
        "id": "AblAyzZl0_1A",
        "outputId": "c0ab9af8-464d-433e-86ca-d658fef6982a"
      },
      "execution_count": 52,
      "outputs": [
        {
          "output_type": "execute_result",
          "data": {
            "text/plain": [
              "Positive              11422\n",
              "Negative               9917\n",
              "Neutral                7713\n",
              "Extremely Positive     6624\n",
              "Extremely Negative     5481\n",
              "Name: Sentiment, dtype: int64"
            ]
          },
          "metadata": {},
          "execution_count": 52
        }
      ]
    },
    {
      "cell_type": "markdown",
      "source": [
        "###Handling missing data"
      ],
      "metadata": {
        "id": "Rh8bCECt0v9a"
      }
    },
    {
      "cell_type": "code",
      "source": [
        "# Visualizing for null value in train_data\n",
        "sns.heatmap(df.isnull(), cbar=False)"
      ],
      "metadata": {
        "colab": {
          "base_uri": "https://localhost:8080/",
          "height": 463
        },
        "id": "8R7tay5gSO0W",
        "outputId": "ec056966-9f9e-4a1a-ce26-4ab314a162b6"
      },
      "execution_count": 53,
      "outputs": [
        {
          "output_type": "execute_result",
          "data": {
            "text/plain": [
              "<matplotlib.axes._subplots.AxesSubplot at 0x7f6f29b467f0>"
            ]
          },
          "metadata": {},
          "execution_count": 53
        },
        {
          "output_type": "display_data",
          "data": {
            "text/plain": [
              "<Figure size 800x500 with 1 Axes>"
            ],
            "image/png": "[encoded data removed]"
          },
          "metadata": {
            "needs_background": "light"
          }
        }
      ]
    },
    {
      "cell_type": "markdown",
      "source": [
        "Observation: Only Location feature has null values that needs to be taken care of."
      ],
      "metadata": {
        "id": "tLI2-mxNTY7b"
      }
    },
    {
      "cell_type": "markdown",
      "source": [
        "###Exploratory Data Analysis"
      ],
      "metadata": {
        "id": "FpoWsJEf006A"
      }
    },
    {
      "cell_type": "code",
      "source": [
        "# We want this classification to be 3-way so modifying sentiment column.\n",
        "df['Sentiment'] = df['Sentiment'].map({'Extremely Positive':'Positive', 'Extremely Negative':'Negative', 'Negative':'Negative', 'Positive':'Positive', 'Neutral':'Neutral'})"
      ],
      "metadata": {
        "id": "hcGHBIQkXAsZ"
      },
      "execution_count": 54,
      "outputs": []
    },
    {
      "cell_type": "code",
      "source": [
        "df['Sentiment'].value_counts()"
      ],
      "metadata": {
        "colab": {
          "base_uri": "https://localhost:8080/"
        },
        "id": "lzpkCSLd4hUL",
        "outputId": "453fa3a5-2311-4f9e-ebbc-46ec1a53d6a2"
      },
      "execution_count": 55,
      "outputs": [
        {
          "output_type": "execute_result",
          "data": {
            "text/plain": [
              "Positive    18046\n",
              "Negative    15398\n",
              "Neutral      7713\n",
              "Name: Sentiment, dtype: int64"
            ]
          },
          "metadata": {},
          "execution_count": 55
        }
      ]
    },
    {
      "cell_type": "code",
      "source": [
        "#Visualizing the sentiments count.\n",
        "ax = sns.countplot(df['Sentiment'])\n",
        "\n",
        "# Loop through each category and add percentage to bar\n",
        "for p in ax.patches:\n",
        "    ax.annotate(f'{p.get_height()/len(df)*100:.2f}%', (p.get_x()+0.25, p.get_height()), fontsize=12)"
      ],
      "metadata": {
        "colab": {
          "base_uri": "https://localhost:8080/",
          "height": 457
        },
        "id": "ttHjNMpx1mM9",
        "outputId": "634a061f-b364-4772-ed05-2667571d1df1"
      },
      "execution_count": 56,
      "outputs": [
        {
          "output_type": "display_data",
          "data": {
            "text/plain": [
              "<Figure size 800x500 with 1 Axes>"
            ],
            "image/png": "[encoded data removed]"
          },
          "metadata": {
            "needs_background": "light"
          }
        }
      ]
    },
    {
      "cell_type": "markdown",
      "source": [
        "Observation: Here we can see that positive sentiment is 43.85%, negative sentiment is 37.41% and Neutral sentiment is 18.74% this will result in a class imbalance so we have to handle it."
      ],
      "metadata": {
        "id": "LOFw7QkY3T8v"
      }
    },
    {
      "cell_type": "code",
      "source": [
        "#Visualizing Character Frequency Count in each of the sentiment\n",
        "neg = df[df['Sentiment']=='Negative']['OriginalTweet'].str.len()\n",
        "pos = df[df['Sentiment']=='Positive']['OriginalTweet'].str.len()\n",
        "neu = df[df['Sentiment']=='Neutral']['OriginalTweet'].str.len()\n",
        "\n",
        "fig, axs = plt.subplots(1, 3, figsize=(15,5))\n",
        "\n",
        "n = axs[0].hist(neg, bins = 50, color = 'red')\n",
        "axs[0].set_title(\"Negative Tweets\")\n",
        "axs[0].set_xlabel(\"Negative Tweet Length\")\n",
        "axs[0].set_ylabel(\"Count\")\n",
        "\n",
        "p = axs[1].hist(pos, bins = 50, color = 'green')\n",
        "axs[1].set_title(\"Positive Tweets\")\n",
        "axs[1].set_xlabel(\"Positive Tweet Length\")\n",
        "axs[1].set_ylabel(\"Count\")\n",
        "\n",
        "nu = axs[2].hist(neu, bins = 50)\n",
        "axs[2].set_title(\"Neutral Tweets\")\n",
        "axs[2].set_xlabel(\"Neutral Tweet Length\")\n",
        "axs[2].set_ylabel(\"Count\")"
      ],
      "metadata": {
        "colab": {
          "base_uri": "https://localhost:8080/",
          "height": 498
        },
        "id": "5D5RSKnGAnv4",
        "outputId": "8355b209-3bcc-4a5d-b3b3-2e70cd86a442"
      },
      "execution_count": 57,
      "outputs": [
        {
          "output_type": "execute_result",
          "data": {
            "text/plain": [
              "Text(0, 0.5, 'Count')"
            ]
          },
          "metadata": {},
          "execution_count": 57
        },
        {
          "output_type": "display_data",
          "data": {
            "text/plain": [
              "<Figure size 1500x500 with 3 Axes>"
            ],
            "image/png": "[encoded data removed]"
          },
          "metadata": {
            "needs_background": "light"
          }
        }
      ]
    },
    {
      "cell_type": "markdown",
      "source": [
        "Observation: Visualizing character frequency counts can provide insights into the language and style of tweets with different sentiments, can be used as a preprocessing step for text data, can be used as a feature in machine learning models, can be used to identify outliers and anomalies in the text data, and can be used to understand the context"
      ],
      "metadata": {
        "id": "gTd3ZOPREgq9"
      }
    },
    {
      "cell_type": "code",
      "source": [
        "#Visualizing Word Count Distribution in each of the sentiment\n",
        "neg = df[df['Sentiment']=='Negative']['OriginalTweet'].str.split().map(lambda x: len(x))\n",
        "pos = df[df['Sentiment']=='Positive']['OriginalTweet'].str.split().map(lambda x: len(x))\n",
        "neu = df[df['Sentiment']=='Neutral']['OriginalTweet'].str.split().map(lambda x: len(x))\n",
        "\n",
        "fig, axs = plt.subplots(1, 3, figsize=(15,5))\n",
        "\n",
        "n = axs[0].hist(neg, bins = 60, color = 'red')\n",
        "axs[0].set_title(\"Negative Tweets\")\n",
        "\n",
        "p = axs[1].hist(pos, bins = 60, color = 'green')\n",
        "axs[1].set_title(\"Positive Tweets\")\n",
        "\n",
        "nu = axs[2].hist(neu, bins = 60)\n",
        "axs[2].set_title(\"Neutral Tweets\")"
      ],
      "metadata": {
        "colab": {
          "base_uri": "https://localhost:8080/",
          "height": 478
        },
        "id": "jlNT2Ji7EjhO",
        "outputId": "6ce9914d-aaf0-4f17-eab3-7ee5f700b706"
      },
      "execution_count": 58,
      "outputs": [
        {
          "output_type": "execute_result",
          "data": {
            "text/plain": [
              "Text(0.5, 1.0, 'Neutral Tweets')"
            ]
          },
          "metadata": {},
          "execution_count": 58
        },
        {
          "output_type": "display_data",
          "data": {
            "text/plain": [
              "<Figure size 1500x500 with 3 Axes>"
            ],
            "image/png": "[encoded data removed]"
          },
          "metadata": {
            "needs_background": "light"
          }
        }
      ]
    },
    {
      "cell_type": "markdown",
      "source": [
        "Observation: Visualizing Word Count Distribution is showing to make tweets sentiment positive or negative the requirement of words is more and on the other hand neutral tweets have comparatively less no of words as the histogram plot is positively skewed."
      ],
      "metadata": {
        "id": "Fs2qoA4hFptF"
      }
    },
    {
      "cell_type": "code",
      "source": [
        "#Visualizing on which dates number of tweets are more.\n",
        "sns.countplot(x='TweetAt', data=df)\n",
        "plt.xticks(rotation=40)"
      ],
      "metadata": {
        "colab": {
          "base_uri": "https://localhost:8080/",
          "height": 560
        },
        "id": "K_pqRHh_22Z4",
        "outputId": "5f853cf9-546f-4416-8e88-90ac22fbea0b"
      },
      "execution_count": 59,
      "outputs": [
        {
          "output_type": "execute_result",
          "data": {
            "text/plain": [
              "(array([ 0,  1,  2,  3,  4,  5,  6,  7,  8,  9, 10, 11, 12, 13, 14, 15, 16,\n",
              "        17, 18, 19, 20, 21, 22, 23, 24, 25, 26, 27, 28, 29]),\n",
              " <a list of 30 Text major ticklabel objects>)"
            ]
          },
          "metadata": {},
          "execution_count": 59
        },
        {
          "output_type": "display_data",
          "data": {
            "text/plain": [
              "<Figure size 800x500 with 1 Axes>"
            ],
            "image/png": "[encoded data removed]"
          },
          "metadata": {
            "needs_background": "light"
          }
        }
      ]
    },
    {
      "cell_type": "markdown",
      "source": [
        "Observation: Here we can see on 23rd march and 8th April a spike in the count of tweets. This can be a caused by any factors like major news break or any factor that can effect the mass population."
      ],
      "metadata": {
        "id": "pbD4rwK17hSB"
      }
    },
    {
      "cell_type": "code",
      "source": [
        "#Visualizing Unique Word Count in each of the sentiment\n",
        "neg = df[df['Sentiment']=='Negative']['OriginalTweet'].apply(lambda x: len(set(str(x).split()))).to_list()\n",
        "pos = df[df['Sentiment']=='Positive']['OriginalTweet'].apply(lambda x: len(set(str(x).split()))).to_list()\n",
        "neu = df[df['Sentiment']=='Neutral']['OriginalTweet'].apply(lambda x: len(set(str(x).split()))).to_list()\n",
        "\n",
        "sns.distplot(neg, rug=True,  bins = 50, color='red')\n",
        "sns.distplot(pos, rug=True,  bins = 50, color='green')\n",
        "sns.distplot(neu, rug=True, bins = 50)\n",
        "plt.show()"
      ],
      "metadata": {
        "colab": {
          "base_uri": "https://localhost:8080/",
          "height": 438
        },
        "id": "qgISLPSGGodO",
        "outputId": "b3589fb7-7b89-4c74-95c4-33d1bb3a3067"
      },
      "execution_count": 60,
      "outputs": [
        {
          "output_type": "display_data",
          "data": {
            "text/plain": [
              "<Figure size 800x500 with 1 Axes>"
            ],
            "image/png": "[encoded data removed]"
          },
          "metadata": {
            "needs_background": "light"
          }
        }
      ]
    },
    {
      "cell_type": "markdown",
      "source": [
        "Observation: Unique word counts can provide insights into the vocabulary and language used in tweets with different sentiments. For example, you may notice that tweets with a negative sentiment and positive sentiment use more unique words compared to tweets with a neutral sentiment."
      ],
      "metadata": {
        "id": "2PwBARr0JBg1"
      }
    },
    {
      "cell_type": "code",
      "source": [
        "# Visualizing which Locations have high number of tweets on coronavirus.\n",
        "# Get the top 20 locations by value count\n",
        "top_20_locations = df['Location'].value_counts()[:20]\n",
        "# Create the bar plot\n",
        "sns.barplot(x=top_20_locations.values, y=top_20_locations.index)"
      ],
      "metadata": {
        "colab": {
          "base_uri": "https://localhost:8080/",
          "height": 456
        },
        "id": "SQoC6KPF4k54",
        "outputId": "bf04ee1c-b483-4336-efb3-dcb2d659fe7b"
      },
      "execution_count": 61,
      "outputs": [
        {
          "output_type": "execute_result",
          "data": {
            "text/plain": [
              "<matplotlib.axes._subplots.AxesSubplot at 0x7f6f28240fd0>"
            ]
          },
          "metadata": {},
          "execution_count": 61
        },
        {
          "output_type": "display_data",
          "data": {
            "text/plain": [
              "<Figure size 800x500 with 1 Axes>"
            ],
            "image/png": "[encoded data removed]"
          },
          "metadata": {
            "needs_background": "light"
          }
        }
      ]
    },
    {
      "cell_type": "markdown",
      "source": [
        "Observation: Here we can see countries and states all in the location feature so taking a intimation that countries like USA, England, India and etc. are tweeting about coronivirus on a large number."
      ],
      "metadata": {
        "id": "tdgdOnkW50C4"
      }
    },
    {
      "cell_type": "code",
      "source": [
        "#Dropping the Location column.\n",
        "df.drop(columns ='Location', inplace = True)"
      ],
      "metadata": {
        "id": "a-OCtbXuTJmm"
      },
      "execution_count": 62,
      "outputs": []
    },
    {
      "cell_type": "markdown",
      "source": [
        "Observation: There were almost approx. 9000 observations that consisted of Null values in the location feature so dropping the feature as it is not serving any major role in sentiment anlysis. But visualizing it gave us an intimation from which locations the tweets were originated. \n",
        "\n"
      ],
      "metadata": {
        "id": "1LMC05-9UV-O"
      }
    },
    {
      "cell_type": "markdown",
      "source": [
        "###Data manipulation & Preprocessing"
      ],
      "metadata": {
        "id": "0Ykt_pfP_XJJ"
      }
    },
    {
      "cell_type": "code",
      "source": [
        "#Writing a function to process the tweets to remove URLs, HTML Links, Numbers, Stop words, punctuations and etc.\n",
        "def preprocessing(text):\n",
        "\n",
        "  #Removing Urls links\n",
        "  text = re.compile(r'https?://\\S+|www\\.\\S+').sub(r'', text)\n",
        "  #Removing HTML tags\n",
        "  text = re.compile(r'<.*?>').sub(r'',text)\n",
        "  #Removing numbers\n",
        "  text = re.sub(r'\\d+', '', text)\n",
        "  #Removing mentions \n",
        "  text = re.sub(r'@\\w+','',text)\n",
        "  #Removing hashtags\n",
        "  text = re.sub(r'#\\w+','',text)\n",
        "  #Removing punctuations\n",
        "  text = re.sub(r\"[^\\w\\s\\d]\",\"\", text)\n",
        "  #Removing any extra white space which would be left while cleaning the data\n",
        "  text = re.sub(r\"\\s+\",\" \",text).strip()\n",
        "\n",
        "  return text"
      ],
      "metadata": {
        "id": "2VTwLstZLcz-"
      },
      "execution_count": 63,
      "outputs": []
    },
    {
      "cell_type": "code",
      "source": [
        "#Calling the preprocessing function to clean the tweets.\n",
        "df['cleaned_tweet'] = df['OriginalTweet'].apply(lambda x:preprocessing(x))"
      ],
      "metadata": {
        "id": "fWo1OSH3myZm"
      },
      "execution_count": 64,
      "outputs": []
    },
    {
      "cell_type": "markdown",
      "source": [
        "###Removing Stopwords"
      ],
      "metadata": {
        "id": "gIagNS74p4X6"
      }
    },
    {
      "cell_type": "code",
      "source": [
        "sentences = stopwords.words('english')\n",
        "print(sentences)"
      ],
      "metadata": {
        "colab": {
          "base_uri": "https://localhost:8080/"
        },
        "id": "rjIelTXlpntI",
        "outputId": "80e8e028-a873-4e3f-82cc-6a71b1fe3bb1"
      },
      "execution_count": 65,
      "outputs": [
        {
          "output_type": "stream",
          "name": "stdout",
          "text": [
            "['i', 'me', 'my', 'myself', 'we', 'our', 'ours', 'ourselves', 'you', \"you're\", \"you've\", \"you'll\", \"you'd\", 'your', 'yours', 'yourself', 'yourselves', 'he', 'him', 'his', 'himself', 'she', \"she's\", 'her', 'hers', 'herself', 'it', \"it's\", 'its', 'itself', 'they', 'them', 'their', 'theirs', 'themselves', 'what', 'which', 'who', 'whom', 'this', 'that', \"that'll\", 'these', 'those', 'am', 'is', 'are', 'was', 'were', 'be', 'been', 'being', 'have', 'has', 'had', 'having', 'do', 'does', 'did', 'doing', 'a', 'an', 'the', 'and', 'but', 'if', 'or', 'because', 'as', 'until', 'while', 'of', 'at', 'by', 'for', 'with', 'about', 'against', 'between', 'into', 'through', 'during', 'before', 'after', 'above', 'below', 'to', 'from', 'up', 'down', 'in', 'out', 'on', 'off', 'over', 'under', 'again', 'further', 'then', 'once', 'here', 'there', 'when', 'where', 'why', 'how', 'all', 'any', 'both', 'each', 'few', 'more', 'most', 'other', 'some', 'such', 'no', 'nor', 'not', 'only', 'own', 'same', 'so', 'than', 'too', 'very', 's', 't', 'can', 'will', 'just', 'don', \"don't\", 'should', \"should've\", 'now', 'd', 'll', 'm', 'o', 're', 've', 'y', 'ain', 'aren', \"aren't\", 'couldn', \"couldn't\", 'didn', \"didn't\", 'doesn', \"doesn't\", 'hadn', \"hadn't\", 'hasn', \"hasn't\", 'haven', \"haven't\", 'isn', \"isn't\", 'ma', 'mightn', \"mightn't\", 'mustn', \"mustn't\", 'needn', \"needn't\", 'shan', \"shan't\", 'shouldn', \"shouldn't\", 'wasn', \"wasn't\", 'weren', \"weren't\", 'won', \"won't\", 'wouldn', \"wouldn't\"]\n"
          ]
        }
      ]
    },
    {
      "cell_type": "code",
      "source": [
        "# function to remove stop words\n",
        "def remove_stopwords(text):\n",
        "    # removing the stop words and lowercasing the selected words\n",
        "    text = [word.lower() for word in text.split() if word.lower() not in sentences]\n",
        "    # joining the list of words with space separator\n",
        "    return \" \".join(text)"
      ],
      "metadata": {
        "id": "Ijrr4b_0qTs5"
      },
      "execution_count": 66,
      "outputs": []
    },
    {
      "cell_type": "code",
      "source": [
        "# Removing stop words\n",
        "df['cleaned_tweet'] = df['cleaned_tweet'].apply(remove_stopwords)"
      ],
      "metadata": {
        "id": "1eaNQPC9qgCS"
      },
      "execution_count": 67,
      "outputs": []
    },
    {
      "cell_type": "markdown",
      "source": [
        "###Lemmatization\n",
        "\n",
        "Lemmatization is the process of reducing a word to its base or root form. Lemmatization takes into account the context and part of speech of the word, and uses a dictionary or a morphological analyzer to find the base form of the word."
      ],
      "metadata": {
        "id": "_YPFLx_NnFCx"
      }
    },
    {
      "cell_type": "code",
      "source": [
        "# function to lemmatize the corpus\n",
        "def lemmatize_verbs(words):\n",
        "    lemmatizer = WordNetLemmatizer()\n",
        "    lemmas = []\n",
        "    for word in words:\n",
        "        lemma = lemmatizer.lemmatize(word, pos='v')\n",
        "        lemmas.append(lemma)\n",
        "    return lemmas"
      ],
      "metadata": {
        "id": "BJP-p8D4nEiE"
      },
      "execution_count": 68,
      "outputs": []
    },
    {
      "cell_type": "code",
      "source": [
        "# Lemmatizing the cleaned_tweet column\n",
        "df['cleaned_tweet'] = lemmatize_verbs(df['cleaned_tweet'])"
      ],
      "metadata": {
        "id": "f3PT9qXnrTby"
      },
      "execution_count": 69,
      "outputs": []
    },
    {
      "cell_type": "code",
      "source": [
        "#Dropping the OriginalTweet column as we have extracted all the info that we needed\n",
        "df.drop(columns=['OriginalTweet'], inplace = True)"
      ],
      "metadata": {
        "id": "wwgwbJ3XoLb9"
      },
      "execution_count": 70,
      "outputs": []
    },
    {
      "cell_type": "code",
      "source": [
        "#Checking for the expected changes\n",
        "df.head(10)"
      ],
      "metadata": {
        "colab": {
          "base_uri": "https://localhost:8080/",
          "height": 363
        },
        "id": "vzox3gkyN1h_",
        "outputId": "03dd75d6-75dd-4200-a898-f1ee5f67c129"
      },
      "execution_count": 71,
      "outputs": [
        {
          "output_type": "execute_result",
          "data": {
            "text/plain": [
              "   UserName  ScreenName     TweetAt Sentiment  \\\n",
              "0      3799       48751  16-03-2020   Neutral   \n",
              "1      3800       48752  16-03-2020  Positive   \n",
              "2      3801       48753  16-03-2020  Positive   \n",
              "3      3802       48754  16-03-2020  Positive   \n",
              "4      3803       48755  16-03-2020  Negative   \n",
              "5      3804       48756  16-03-2020  Positive   \n",
              "6      3805       48757  16-03-2020  Positive   \n",
              "7      3806       48758  16-03-2020   Neutral   \n",
              "8      3807       48759  16-03-2020  Positive   \n",
              "9      3808       48760  16-03-2020  Negative   \n",
              "\n",
              "                                       cleaned_tweet  \n",
              "0                                                     \n",
              "1  advice talk neighbours family exchange phone n...  \n",
              "2  coronavirus australia woolworths give elderly ...  \n",
              "3  food stock one empty please dont panic enough ...  \n",
              "4  ready go supermarket outbreak im paranoid food...  \n",
              "5  news regionâs first confirmed covid case came ...  \n",
              "6  cashier grocery store sharing insights prove c...  \n",
              "7           supermarket today didnt buy toilet paper  \n",
              "8  due covid retail store classroom atlanta open ...  \n",
              "9  corona preventionwe stop buy things cash use o...  "
            ],
            "text/html": [
              "\n",
              "  <div id=\"df-156f05c6-3080-4eb1-be58-45acff22387f\">\n",
              "    <div class=\"colab-df-container\">\n",
              "      <div>\n",
              "<style scoped>\n",
              "    .dataframe tbody tr th:only-of-type {\n",
              "        vertical-align: middle;\n",
              "    }\n",
              "\n",
              "    .dataframe tbody tr th {\n",
              "        vertical-align: top;\n",
              "    }\n",
              "\n",
              "    .dataframe thead th {\n",
              "        text-align: right;\n",
              "    }\n",
              "</style>\n",
              "<table border=\"1\" class=\"dataframe\">\n",
              "  <thead>\n",
              "    <tr style=\"text-align: right;\">\n",
              "      <th></th>\n",
              "      <th>UserName</th>\n",
              "      <th>ScreenName</th>\n",
              "      <th>TweetAt</th>\n",
              "      <th>Sentiment</th>\n",
              "      <th>cleaned_tweet</th>\n",
              "    </tr>\n",
              "  </thead>\n",
              "  <tbody>\n",
              "    <tr>\n",
              "      <th>0</th>\n",
              "      <td>3799</td>\n",
              "      <td>48751</td>\n",
              "      <td>16-03-2020</td>\n",
              "      <td>Neutral</td>\n",
              "      <td></td>\n",
              "    </tr>\n",
              "    <tr>\n",
              "      <th>1</th>\n",
              "      <td>3800</td>\n",
              "      <td>48752</td>\n",
              "      <td>16-03-2020</td>\n",
              "      <td>Positive</td>\n",
              "      <td>advice talk neighbours family exchange phone n...</td>\n",
              "    </tr>\n",
              "    <tr>\n",
              "      <th>2</th>\n",
              "      <td>3801</td>\n",
              "      <td>48753</td>\n",
              "      <td>16-03-2020</td>\n",
              "      <td>Positive</td>\n",
              "      <td>coronavirus australia woolworths give elderly ...</td>\n",
              "    </tr>\n",
              "    <tr>\n",
              "      <th>3</th>\n",
              "      <td>3802</td>\n",
              "      <td>48754</td>\n",
              "      <td>16-03-2020</td>\n",
              "      <td>Positive</td>\n",
              "      <td>food stock one empty please dont panic enough ...</td>\n",
              "    </tr>\n",
              "    <tr>\n",
              "      <th>4</th>\n",
              "      <td>3803</td>\n",
              "      <td>48755</td>\n",
              "      <td>16-03-2020</td>\n",
              "      <td>Negative</td>\n",
              "      <td>ready go supermarket outbreak im paranoid food...</td>\n",
              "    </tr>\n",
              "    <tr>\n",
              "      <th>5</th>\n",
              "      <td>3804</td>\n",
              "      <td>48756</td>\n",
              "      <td>16-03-2020</td>\n",
              "      <td>Positive</td>\n",
              "      <td>news regionâs first confirmed covid case came ...</td>\n",
              "    </tr>\n",
              "    <tr>\n",
              "      <th>6</th>\n",
              "      <td>3805</td>\n",
              "      <td>48757</td>\n",
              "      <td>16-03-2020</td>\n",
              "      <td>Positive</td>\n",
              "      <td>cashier grocery store sharing insights prove c...</td>\n",
              "    </tr>\n",
              "    <tr>\n",
              "      <th>7</th>\n",
              "      <td>3806</td>\n",
              "      <td>48758</td>\n",
              "      <td>16-03-2020</td>\n",
              "      <td>Neutral</td>\n",
              "      <td>supermarket today didnt buy toilet paper</td>\n",
              "    </tr>\n",
              "    <tr>\n",
              "      <th>8</th>\n",
              "      <td>3807</td>\n",
              "      <td>48759</td>\n",
              "      <td>16-03-2020</td>\n",
              "      <td>Positive</td>\n",
              "      <td>due covid retail store classroom atlanta open ...</td>\n",
              "    </tr>\n",
              "    <tr>\n",
              "      <th>9</th>\n",
              "      <td>3808</td>\n",
              "      <td>48760</td>\n",
              "      <td>16-03-2020</td>\n",
              "      <td>Negative</td>\n",
              "      <td>corona preventionwe stop buy things cash use o...</td>\n",
              "    </tr>\n",
              "  </tbody>\n",
              "</table>\n",
              "</div>\n",
              "      <button class=\"colab-df-convert\" onclick=\"convertToInteractive('df-156f05c6-3080-4eb1-be58-45acff22387f')\"\n",
              "              title=\"Convert this dataframe to an interactive table.\"\n",
              "              style=\"display:none;\">\n",
              "        \n",
              "  <svg xmlns=\"http://www.w3.org/2000/svg\" height=\"24px\"viewBox=\"0 0 24 24\"\n",
              "       width=\"24px\">\n",
              "    <path d=\"M0 0h24v24H0V0z\" fill=\"none\"/>\n",
              "    <path d=\"M18.56 5.44l.94 2.06.94-2.06 2.06-.94-2.06-.94-.94-2.06-.94 2.06-2.06.94zm-11 1L8.5 8.5l.94-2.06 2.06-.94-2.06-.94L8.5 2.5l-.94 2.06-2.06.94zm10 10l.94 2.06.94-2.06 2.06-.94-2.06-.94-.94-2.06-.94 2.06-2.06.94z\"/><path d=\"M17.41 7.96l-1.37-1.37c-.4-.4-.92-.59-1.43-.59-.52 0-1.04.2-1.43.59L10.3 9.45l-7.72 7.72c-.78.78-.78 2.05 0 2.83L4 21.41c.39.39.9.59 1.41.59.51 0 1.02-.2 1.41-.59l7.78-7.78 2.81-2.81c.8-.78.8-2.07 0-2.86zM5.41 20L4 18.59l7.72-7.72 1.47 1.35L5.41 20z\"/>\n",
              "  </svg>\n",
              "      </button>\n",
              "      \n",
              "  <style>\n",
              "    .colab-df-container {\n",
              "      display:flex;\n",
              "      flex-wrap:wrap;\n",
              "      gap: 12px;\n",
              "    }\n",
              "\n",
              "    .colab-df-convert {\n",
              "      background-color: #E8F0FE;\n",
              "      border: none;\n",
              "      border-radius: 50%;\n",
              "      cursor: pointer;\n",
              "      display: none;\n",
              "      fill: #1967D2;\n",
              "      height: 32px;\n",
              "      padding: 0 0 0 0;\n",
              "      width: 32px;\n",
              "    }\n",
              "\n",
              "    .colab-df-convert:hover {\n",
              "      background-color: #E2EBFA;\n",
              "      box-shadow: 0px 1px 2px rgba(60, 64, 67, 0.3), 0px 1px 3px 1px rgba(60, 64, 67, 0.15);\n",
              "      fill: #174EA6;\n",
              "    }\n",
              "\n",
              "    [theme=dark] .colab-df-convert {\n",
              "      background-color: #3B4455;\n",
              "      fill: #D2E3FC;\n",
              "    }\n",
              "\n",
              "    [theme=dark] .colab-df-convert:hover {\n",
              "      background-color: #434B5C;\n",
              "      box-shadow: 0px 1px 3px 1px rgba(0, 0, 0, 0.15);\n",
              "      filter: drop-shadow(0px 1px 2px rgba(0, 0, 0, 0.3));\n",
              "      fill: #FFFFFF;\n",
              "    }\n",
              "  </style>\n",
              "\n",
              "      <script>\n",
              "        const buttonEl =\n",
              "          document.querySelector('#df-156f05c6-3080-4eb1-be58-45acff22387f button.colab-df-convert');\n",
              "        buttonEl.style.display =\n",
              "          google.colab.kernel.accessAllowed ? 'block' : 'none';\n",
              "\n",
              "        async function convertToInteractive(key) {\n",
              "          const element = document.querySelector('#df-156f05c6-3080-4eb1-be58-45acff22387f');\n",
              "          const dataTable =\n",
              "            await google.colab.kernel.invokeFunction('convertToInteractive',\n",
              "                                                     [key], {});\n",
              "          if (!dataTable) return;\n",
              "\n",
              "          const docLinkHtml = 'Like what you see? Visit the ' +\n",
              "            '<a target=\"_blank\" href=https://colab.research.google.com/notebooks/data_table.ipynb>data table notebook</a>'\n",
              "            + ' to learn more about interactive tables.';\n",
              "          element.innerHTML = '';\n",
              "          dataTable['output_type'] = 'display_data';\n",
              "          await google.colab.output.renderOutput(dataTable, element);\n",
              "          const docLink = document.createElement('div');\n",
              "          docLink.innerHTML = docLinkHtml;\n",
              "          element.appendChild(docLink);\n",
              "        }\n",
              "      </script>\n",
              "    </div>\n",
              "  </div>\n",
              "  "
            ]
          },
          "metadata": {},
          "execution_count": 71
        }
      ]
    },
    {
      "cell_type": "markdown",
      "source": [
        "###Handling Class Imbalance"
      ],
      "metadata": {
        "id": "qUGrwhTzzshv"
      }
    },
    {
      "cell_type": "code",
      "source": [
        "# Separate majority and minority classes\n",
        "df_majority_positive = df[df.Sentiment=='Positive']\n",
        "df_minority_negative = df[df.Sentiment=='Negative']\n",
        "df_minority_neutral = df[df.Sentiment=='Neutral']\n",
        "\n",
        "# Upsample minority negative class\n",
        "df_minority_negative_upsampled = resample(df_minority_negative, \n",
        "                                 replace=True,     # sample with replacement\n",
        "                                 n_samples=len(df_majority_positive),    # to match majority class\n",
        "                                 random_state=123) # reproducible results\n",
        "\n",
        "# Upsample minority neutral class\n",
        "df_minority_neutral_upsampled = resample(df_minority_neutral, \n",
        "                                 replace=True,     # sample with replacement\n",
        "                                 n_samples=len(df_majority_positive),    # to match majority class\n",
        "                                 random_state=123) # reproducible results\n",
        " \n",
        "# Combine majority class with upsampled minority class\n",
        "df_upsampled = pd.concat([df_majority_positive, df_minority_negative_upsampled, df_minority_neutral_upsampled])\n",
        " \n",
        "# Shuffle data\n",
        "df = df_upsampled.sample(frac=1).reset_index(drop=True)\n",
        "\n",
        "# Display new class counts\n",
        "print(df.Sentiment.value_counts())"
      ],
      "metadata": {
        "colab": {
          "base_uri": "https://localhost:8080/"
        },
        "id": "pG92lJ_21x7d",
        "outputId": "cc403308-636d-4ccf-968a-491aefd2ef2c"
      },
      "execution_count": 72,
      "outputs": [
        {
          "output_type": "stream",
          "name": "stdout",
          "text": [
            "Neutral     18046\n",
            "Positive    18046\n",
            "Negative    18046\n",
            "Name: Sentiment, dtype: int64\n"
          ]
        }
      ]
    },
    {
      "cell_type": "markdown",
      "source": [
        "Observation: We have used upsampling here to handle the class imbalance in our dataset as we know the neutral sentiment class was too low on the count so undersampling would resulted in a major data loss and less accuracy on the validation dataset. "
      ],
      "metadata": {
        "id": "OfrgShfv2QR2"
      }
    },
    {
      "cell_type": "markdown",
      "source": [
        "###Vectorization"
      ],
      "metadata": {
        "id": "Z5Bo0BKe03Jz"
      }
    },
    {
      "cell_type": "code",
      "source": [
        "# Initialize the TfidfVectorizer\n",
        "vectorizer = TfidfVectorizer()\n",
        "\n",
        "# Use the fit_transform method to transform the cleaned_tweet column into a TF-IDF representation\n",
        "tfidf_matrix = vectorizer.fit_transform(df['cleaned_tweet'])"
      ],
      "metadata": {
        "id": "qSmK7k5u92q9"
      },
      "execution_count": 73,
      "outputs": []
    },
    {
      "cell_type": "markdown",
      "source": [
        "####Note:\n",
        "TfidfVectorizer is used to convert a collection of raw text documents to a matrix of TF-IDF features. The goal of using TF-IDF instead of the raw frequencies of occurrence of a token in a given document is to scale down the impact of tokens that occur very frequently in a given corpus and that are hence empirically less informative than features that occur in a small fraction of the training corpus.\n"
      ],
      "metadata": {
        "id": "ZShBcISC5zt4"
      }
    },
    {
      "cell_type": "markdown",
      "source": [
        "###Train - Test Split\n",
        "\n",
        "Splitting the matrix formed by TfidfVectorizer for further training the model."
      ],
      "metadata": {
        "id": "EfIRJ_t-6Qf8"
      }
    },
    {
      "cell_type": "code",
      "source": [
        "# Split the data into training and test sets\n",
        "X_train, X_test, y_train, y_test = train_test_split(tfidf_matrix, df['Sentiment'], test_size=0.2)"
      ],
      "metadata": {
        "id": "jTg8AcXH6PPc"
      },
      "execution_count": 74,
      "outputs": []
    },
    {
      "cell_type": "markdown",
      "source": [
        "###Modelling"
      ],
      "metadata": {
        "id": "EQoYB8Mj3joc"
      }
    },
    {
      "cell_type": "code",
      "source": [
        "#Model evaluation function\n",
        "def model_eval(model, model_name):\n",
        "\n",
        "  # Use the predict method to predict the sentiment of the tweets in the test set\n",
        "  y_pred = model.predict(X_test)\n",
        "\n",
        "  #Print the classification report\n",
        "  report = classification_report(y_test, y_pred, output_dict = True)\n",
        "  print(classification_report(y_test, y_pred))\n",
        "\n",
        "  #Plotting a confusion matrix\n",
        "  cm = confusion_matrix(y_test, y_pred)\n",
        "  sns.heatmap(cm, annot=True, fmt='d')\n",
        "  plt.title(model_name)\n",
        "  plt.ylabel('True label')\n",
        "  plt.xlabel('Predicted label')\n",
        "  plt.show()\n",
        "\n",
        "  return report"
      ],
      "metadata": {
        "id": "MQ2FfqYi4JB1"
      },
      "execution_count": 75,
      "outputs": []
    },
    {
      "cell_type": "code",
      "source": [
        "# Create the comparison dataFrame\n",
        "comparison_df = pd.DataFrame(columns = ['Model_Name', 'Accuracy'])"
      ],
      "metadata": {
        "id": "IWuuliiBJVL0"
      },
      "execution_count": 76,
      "outputs": []
    },
    {
      "cell_type": "markdown",
      "source": [
        "###Logistic Regression\n",
        "\n",
        "Logistic Regression is a widely used algorithm for multi-class classification problems, which is a form of linear regression used for predicting the probability of a categorical dependent variable. It is trained with labeled data and learns the relationship between input features and the target variable. The class with the highest probability is chosen as the prediction."
      ],
      "metadata": {
        "id": "UfRWM258JqQg"
      }
    },
    {
      "cell_type": "code",
      "source": [
        "# Initialize the logistic regression model\n",
        "log_reg = LogisticRegression(multi_class='multinomial', solver='lbfgs')\n",
        "# Fit the model on the training data\n",
        "log_reg.fit(X_train, y_train)"
      ],
      "metadata": {
        "colab": {
          "base_uri": "https://localhost:8080/"
        },
        "id": "8dVo137RArgL",
        "outputId": "e853b9a6-768e-4631-c12c-ff6b3539ddbb"
      },
      "execution_count": 29,
      "outputs": [
        {
          "output_type": "execute_result",
          "data": {
            "text/plain": [
              "LogisticRegression(multi_class='multinomial')"
            ]
          },
          "metadata": {},
          "execution_count": 29
        }
      ]
    },
    {
      "cell_type": "code",
      "source": [
        "#Passing the model for evaluation\n",
        "logistic_reg = model_eval(log_reg, 'Logistic Regression')"
      ],
      "metadata": {
        "colab": {
          "base_uri": "https://localhost:8080/",
          "height": 665
        },
        "id": "QgBeHe9nIbub",
        "outputId": "ebe3a9c6-d752-44d2-a6f2-9e55203ebec0"
      },
      "execution_count": 30,
      "outputs": [
        {
          "output_type": "stream",
          "name": "stdout",
          "text": [
            "              precision    recall  f1-score   support\n",
            "\n",
            "    Negative       0.87      0.83      0.85      3670\n",
            "     Neutral       0.81      0.90      0.85      3579\n",
            "    Positive       0.86      0.79      0.83      3579\n",
            "\n",
            "    accuracy                           0.84     10828\n",
            "   macro avg       0.85      0.84      0.84     10828\n",
            "weighted avg       0.85      0.84      0.84     10828\n",
            "\n"
          ]
        },
        {
          "output_type": "display_data",
          "data": {
            "text/plain": [
              "<Figure size 800x500 with 2 Axes>"
            ],
            "image/png": "[encoded data removed]"
          },
          "metadata": {
            "needs_background": "light"
          }
        }
      ]
    },
    {
      "cell_type": "code",
      "source": [
        "# Append the results to the comparison dataframe\n",
        "comparison_df = comparison_df.append({'Model_Name': 'Logistic Regression', 'Accuracy': logistic_reg['accuracy']}, ignore_index=True)"
      ],
      "metadata": {
        "id": "BintCSFqIekb"
      },
      "execution_count": 31,
      "outputs": []
    },
    {
      "cell_type": "markdown",
      "source": [
        "###Pickling the model :)\n",
        "\n",
        "Pickling is particularly useful when working with machine learning models because training a model can take a long time, and it's often useful to save the model so that you don't have to retrain it every time you want to use it. "
      ],
      "metadata": {
        "id": "C-cmtL8jb82Q"
      }
    },
    {
      "cell_type": "code",
      "source": [
        "#Saving the trained Logistic Regression Model on the drive\n",
        "pickle.dump(log_reg, open(\"/content/gdrive/MyDrive/Coronavirus Tweet Sentiment Analysis/Logistic_Regression_Model.pkl\", \"wb\"))"
      ],
      "metadata": {
        "id": "a0GQ_36KI70c"
      },
      "execution_count": 32,
      "outputs": []
    },
    {
      "cell_type": "markdown",
      "source": [
        "###Random Forest Classifier\n",
        "\n",
        "Random Forest Classifier is an ensemble learning method for classification. Random Forest Classifier can handle both categorical and numerical variables, making it a versatile algorithm for various types of classification problems. It is also less sensitive to outliers and noisy data compared to other algorithms. Random Forest Classifier is popularly used in natural language processing and text classification."
      ],
      "metadata": {
        "id": "NMqP-c3GKDBd"
      }
    },
    {
      "cell_type": "code",
      "source": [
        "# Initialize the RandomForestClassifier\n",
        "randomf_clf = RandomForestClassifier()\n",
        "# Fit the classifier to the training data\n",
        "randomf_clf.fit(X_train, y_train)"
      ],
      "metadata": {
        "colab": {
          "base_uri": "https://localhost:8080/"
        },
        "id": "fDU9iEh0sIFR",
        "outputId": "2f8bafae-fa99-465b-e480-970ece22b3c6"
      },
      "execution_count": 77,
      "outputs": [
        {
          "output_type": "execute_result",
          "data": {
            "text/plain": [
              "RandomForestClassifier()"
            ]
          },
          "metadata": {},
          "execution_count": 77
        }
      ]
    },
    {
      "cell_type": "code",
      "source": [
        "#Passing the model for evaluation\n",
        "random_forest = model_eval(randomf_clf, 'Random Forest Classifier')"
      ],
      "metadata": {
        "colab": {
          "base_uri": "https://localhost:8080/",
          "height": 665
        },
        "id": "q9em953i1UlP",
        "outputId": "7b7b7d43-cb59-41e3-e476-005fbc3641c1"
      },
      "execution_count": 78,
      "outputs": [
        {
          "output_type": "stream",
          "name": "stdout",
          "text": [
            "              precision    recall  f1-score   support\n",
            "\n",
            "    Negative       0.89      0.88      0.88      3561\n",
            "     Neutral       0.87      0.97      0.91      3543\n",
            "    Positive       0.90      0.82      0.86      3724\n",
            "\n",
            "    accuracy                           0.89     10828\n",
            "   macro avg       0.89      0.89      0.88     10828\n",
            "weighted avg       0.89      0.89      0.88     10828\n",
            "\n"
          ]
        },
        {
          "output_type": "display_data",
          "data": {
            "text/plain": [
              "<Figure size 800x500 with 2 Axes>"
            ],
            "image/png": "[encoded data removed]"
          },
          "metadata": {
            "needs_background": "light"
          }
        }
      ]
    },
    {
      "cell_type": "code",
      "source": [
        "# Append the results to the comparison dataframe\n",
        "comparison_df = comparison_df.append({'Model_Name': 'Random Forest Classifier', 'Accuracy': random_forest['accuracy']}, ignore_index=True)"
      ],
      "metadata": {
        "id": "SuQP3v4UD8mD"
      },
      "execution_count": 35,
      "outputs": []
    },
    {
      "cell_type": "code",
      "source": [
        "#Saving the trained Random Forest Classifier Model on the drive\n",
        "pickle.dump(randomf_clf, open(\"/content/gdrive/MyDrive/Coronavirus Tweet Sentiment Analysis/Random_Forest_Clf_Model.pkl\", \"wb\"))"
      ],
      "metadata": {
        "id": "oIM13hczb7cL"
      },
      "execution_count": 36,
      "outputs": []
    },
    {
      "cell_type": "markdown",
      "source": [
        "###Support Vector Classification (SVC)\n",
        "\n",
        "Support Vector Machines (SVMs) are a type of supervised learning algorithm that can be used for both binary and multiclass classification. \n",
        "\n",
        "### OneVsOne Classifier\n",
        "\n",
        "The OneVsOneClassifier is a strategy for multi-class classification problems. It works by training a separate binary classifier for each pair of classes, and then combining the results of all the classifiers to make a final prediction.\n"
      ],
      "metadata": {
        "id": "mVWtj3HeKn15"
      }
    },
    {
      "cell_type": "code",
      "source": [
        "# Create an SVC classifier\n",
        "svc = SVC(kernel='linear')\n",
        "# Create the multiclass classifier\n",
        "ovoclf = OneVsOneClassifier(svc)\n",
        "# Fit the classifier on the training data\n",
        "ovoclf.fit(X_train, y_train)"
      ],
      "metadata": {
        "colab": {
          "base_uri": "https://localhost:8080/"
        },
        "id": "UL0NZLkHQmdL",
        "outputId": "bc1469c5-7f4b-4e56-ff01-0b429485ad27"
      },
      "execution_count": 37,
      "outputs": [
        {
          "output_type": "execute_result",
          "data": {
            "text/plain": [
              "OneVsOneClassifier(estimator=SVC(kernel='linear'))"
            ]
          },
          "metadata": {},
          "execution_count": 37
        }
      ]
    },
    {
      "cell_type": "code",
      "source": [
        "#Passing the model for evaluation\n",
        "onevone_clf = model_eval(ovoclf, 'Random Forest Classifier')"
      ],
      "metadata": {
        "colab": {
          "base_uri": "https://localhost:8080/",
          "height": 665
        },
        "id": "NiEIFGKfXgwM",
        "outputId": "8d757a8e-2c1b-489c-9c67-7233b6345556"
      },
      "execution_count": 38,
      "outputs": [
        {
          "output_type": "stream",
          "name": "stdout",
          "text": [
            "              precision    recall  f1-score   support\n",
            "\n",
            "    Negative       0.88      0.86      0.87      3670\n",
            "     Neutral       0.84      0.92      0.88      3579\n",
            "    Positive       0.88      0.82      0.85      3579\n",
            "\n",
            "    accuracy                           0.87     10828\n",
            "   macro avg       0.87      0.87      0.87     10828\n",
            "weighted avg       0.87      0.87      0.87     10828\n",
            "\n"
          ]
        },
        {
          "output_type": "display_data",
          "data": {
            "text/plain": [
              "<Figure size 800x500 with 2 Axes>"
            ],
            "image/png": "[encoded data removed]"
          },
          "metadata": {
            "needs_background": "light"
          }
        }
      ]
    },
    {
      "cell_type": "code",
      "source": [
        "# Append the results to the comparison dataframe\n",
        "comparison_df = comparison_df.append({'Model_Name': 'OneVsOne Classifier ', 'Accuracy': onevone_clf['accuracy']}, ignore_index=True)"
      ],
      "metadata": {
        "id": "6LTOuKbHXsQs"
      },
      "execution_count": 39,
      "outputs": []
    },
    {
      "cell_type": "code",
      "source": [
        "#Saving the trained Random Forest Classifier Model on the drive\n",
        "pickle.dump(ovoclf, open(\"/content/gdrive/MyDrive/Coronavirus Tweet Sentiment Analysis/SVM_OneVsOneClassifier.pkl\", \"wb\"))"
      ],
      "metadata": {
        "id": "CG0CwibEclRB"
      },
      "execution_count": 40,
      "outputs": []
    },
    {
      "cell_type": "markdown",
      "source": [
        "###OneVsRest Classifier\n",
        "\n",
        "The OneVsRestClassifier creates one binary classifier per class, where the class is treated as positive and all other classes are treated as negative. During prediction, the class with the highest score is chosen as the predicted class. "
      ],
      "metadata": {
        "id": "jgw_WdsWWu6C"
      }
    },
    {
      "cell_type": "code",
      "source": [
        "# Initialize the SVM classifier\n",
        "svm = SVC(kernel='linear', C=1, random_state=42)\n",
        "# Use the OneVsRestClassifier wrapper to handle the multiclass classification\n",
        "clf = OneVsRestClassifier(svm)\n",
        "# Fit the classifier on the training data\n",
        "clf.fit(X_train, y_train)"
      ],
      "metadata": {
        "colab": {
          "base_uri": "https://localhost:8080/"
        },
        "outputId": "4bdee2dd-44fd-4afc-ce00-e861998dee12",
        "id": "BmPwHRsmYEzh"
      },
      "execution_count": 41,
      "outputs": [
        {
          "output_type": "execute_result",
          "data": {
            "text/plain": [
              "OneVsRestClassifier(estimator=SVC(C=1, kernel='linear', random_state=42))"
            ]
          },
          "metadata": {},
          "execution_count": 41
        }
      ]
    },
    {
      "cell_type": "code",
      "source": [
        "#Passing the model for evaluation\n",
        "onevrest_clf = model_eval(clf, 'OneVsRest Classifier')"
      ],
      "metadata": {
        "colab": {
          "base_uri": "https://localhost:8080/",
          "height": 665
        },
        "id": "xt_5k7YWYEzi",
        "outputId": "333bf9c2-7be1-458a-f07e-7620975ed6a1"
      },
      "execution_count": 42,
      "outputs": [
        {
          "output_type": "stream",
          "name": "stdout",
          "text": [
            "              precision    recall  f1-score   support\n",
            "\n",
            "    Negative       0.89      0.86      0.87      3670\n",
            "     Neutral       0.85      0.92      0.88      3579\n",
            "    Positive       0.88      0.83      0.85      3579\n",
            "\n",
            "    accuracy                           0.87     10828\n",
            "   macro avg       0.87      0.87      0.87     10828\n",
            "weighted avg       0.87      0.87      0.87     10828\n",
            "\n"
          ]
        },
        {
          "output_type": "display_data",
          "data": {
            "text/plain": [
              "<Figure size 800x500 with 2 Axes>"
            ],
            "image/png": "[encoded data removed]"
          },
          "metadata": {
            "needs_background": "light"
          }
        }
      ]
    },
    {
      "cell_type": "code",
      "source": [
        "# Append the results to the comparison dataframe\n",
        "comparison_df = comparison_df.append({'Model_Name': 'OneVsRest Classifier ', 'Accuracy': onevrest_clf['accuracy']}, ignore_index=True)"
      ],
      "metadata": {
        "id": "zxyQsR0OYEzi"
      },
      "execution_count": 43,
      "outputs": []
    },
    {
      "cell_type": "code",
      "source": [
        "#Saving the trained Random Forest Classifier Model on the drive\n",
        "pickle.dump(clf, open(\"/content/gdrive/MyDrive/Coronavirus Tweet Sentiment Analysis/SVM_OneVsRestClassifier.pkl\", \"wb\"))"
      ],
      "metadata": {
        "id": "4uLEfrtlcm-K"
      },
      "execution_count": 44,
      "outputs": []
    },
    {
      "cell_type": "markdown",
      "source": [
        "###MultinomialNB Classifier\n",
        "\n",
        "The MultinomialNB classifier is a variation of the Naive Bayes algorithm for text classification. It is specifically designed for text data with discrete features, such as word counts in a document. The classifier uses a multinomial distribution for the features and assumes independence between the features. It is typically used for text classification tasks such as sentiment analysis and spam detection."
      ],
      "metadata": {
        "id": "fzFXs3I-B0wZ"
      }
    },
    {
      "cell_type": "code",
      "source": [
        "# Initialize the SVM classifier\n",
        "NB_clf = MultinomialNB()\n",
        "# Fit the classifier on the training data\n",
        "NB_clf.fit(X_train, y_train)"
      ],
      "metadata": {
        "colab": {
          "base_uri": "https://localhost:8080/"
        },
        "outputId": "a6a3af39-b816-405e-f55c-a1e783a7b596",
        "id": "tEciyNITB0wa"
      },
      "execution_count": 48,
      "outputs": [
        {
          "output_type": "execute_result",
          "data": {
            "text/plain": [
              "MultinomialNB()"
            ]
          },
          "metadata": {},
          "execution_count": 48
        }
      ]
    },
    {
      "cell_type": "code",
      "source": [
        "#Passing the model for evaluation\n",
        "MultinomialNB_clf = model_eval(NB_clf, 'MultinomialNB Classifier')"
      ],
      "metadata": {
        "colab": {
          "base_uri": "https://localhost:8080/",
          "height": 665
        },
        "outputId": "b953a464-cf1e-4790-c688-d7a141c5b902",
        "id": "pDTNZnrYB0wa"
      },
      "execution_count": 49,
      "outputs": [
        {
          "output_type": "stream",
          "name": "stdout",
          "text": [
            "              precision    recall  f1-score   support\n",
            "\n",
            "    Negative       0.76      0.81      0.78      3670\n",
            "     Neutral       0.84      0.76      0.79      3579\n",
            "    Positive       0.74      0.76      0.75      3579\n",
            "\n",
            "    accuracy                           0.77     10828\n",
            "   macro avg       0.78      0.77      0.78     10828\n",
            "weighted avg       0.78      0.77      0.78     10828\n",
            "\n"
          ]
        },
        {
          "output_type": "display_data",
          "data": {
            "text/plain": [
              "<Figure size 800x500 with 2 Axes>"
            ],
            "image/png": "[encoded data removed]"
          },
          "metadata": {
            "needs_background": "light"
          }
        }
      ]
    },
    {
      "cell_type": "code",
      "source": [
        "# Append the results to the comparison dataframe\n",
        "comparison_df = comparison_df.append({'Model_Name': 'MultinomialNB Classifier ', 'Accuracy': MultinomialNB_clf['accuracy']}, ignore_index=True)"
      ],
      "metadata": {
        "id": "5GeFR1J-B0wa"
      },
      "execution_count": 50,
      "outputs": []
    },
    {
      "cell_type": "code",
      "source": [
        "#Saving the trained Random Forest Classifier Model on the drive\n",
        "pickle.dump(clf, open(\"/content/gdrive/MyDrive/Coronavirus Tweet Sentiment Analysis/MultinomialNB_Classifier.pkl\", \"wb\"))"
      ],
      "metadata": {
        "id": "D0eZR1hOB0wa"
      },
      "execution_count": 51,
      "outputs": []
    },
    {
      "cell_type": "markdown",
      "source": [
        "###Note:\n",
        "\n",
        "By handling the class imbalance we have seen aprrox. 7-10 % of increase in accuracy. So the choice of upsampling the minority classes was good. :)"
      ],
      "metadata": {
        "id": "9mE4Us9H0DVn"
      }
    },
    {
      "cell_type": "code",
      "source": [
        "comparison_df"
      ],
      "metadata": {
        "colab": {
          "base_uri": "https://localhost:8080/",
          "height": 206
        },
        "id": "X0po2a1PBOnF",
        "outputId": "388fe9b8-0808-4e84-92d2-9b8cdbf9e26b"
      },
      "execution_count": 52,
      "outputs": [
        {
          "output_type": "execute_result",
          "data": {
            "text/plain": [
              "                  Model_Name  Accuracy\n",
              "0        Logistic Regression  0.844200\n",
              "1   Random Forest Classifier  0.880033\n",
              "2       OneVsOne Classifier   0.867473\n",
              "3      OneVsRest Classifier   0.870983\n",
              "4  MultinomialNB Classifier   0.774843"
            ],
            "text/html": [
              "\n",
              "  <div id=\"df-582f454e-d897-42bc-b0bd-07c324a1368c\">\n",
              "    <div class=\"colab-df-container\">\n",
              "      <div>\n",
              "<style scoped>\n",
              "    .dataframe tbody tr th:only-of-type {\n",
              "        vertical-align: middle;\n",
              "    }\n",
              "\n",
              "    .dataframe tbody tr th {\n",
              "        vertical-align: top;\n",
              "    }\n",
              "\n",
              "    .dataframe thead th {\n",
              "        text-align: right;\n",
              "    }\n",
              "</style>\n",
              "<table border=\"1\" class=\"dataframe\">\n",
              "  <thead>\n",
              "    <tr style=\"text-align: right;\">\n",
              "      <th></th>\n",
              "      <th>Model_Name</th>\n",
              "      <th>Accuracy</th>\n",
              "    </tr>\n",
              "  </thead>\n",
              "  <tbody>\n",
              "    <tr>\n",
              "      <th>0</th>\n",
              "      <td>Logistic Regression</td>\n",
              "      <td>0.844200</td>\n",
              "    </tr>\n",
              "    <tr>\n",
              "      <th>1</th>\n",
              "      <td>Random Forest Classifier</td>\n",
              "      <td>0.880033</td>\n",
              "    </tr>\n",
              "    <tr>\n",
              "      <th>2</th>\n",
              "      <td>OneVsOne Classifier</td>\n",
              "      <td>0.867473</td>\n",
              "    </tr>\n",
              "    <tr>\n",
              "      <th>3</th>\n",
              "      <td>OneVsRest Classifier</td>\n",
              "      <td>0.870983</td>\n",
              "    </tr>\n",
              "    <tr>\n",
              "      <th>4</th>\n",
              "      <td>MultinomialNB Classifier</td>\n",
              "      <td>0.774843</td>\n",
              "    </tr>\n",
              "  </tbody>\n",
              "</table>\n",
              "</div>\n",
              "      <button class=\"colab-df-convert\" onclick=\"convertToInteractive('df-582f454e-d897-42bc-b0bd-07c324a1368c')\"\n",
              "              title=\"Convert this dataframe to an interactive table.\"\n",
              "              style=\"display:none;\">\n",
              "        \n",
              "  <svg xmlns=\"http://www.w3.org/2000/svg\" height=\"24px\"viewBox=\"0 0 24 24\"\n",
              "       width=\"24px\">\n",
              "    <path d=\"M0 0h24v24H0V0z\" fill=\"none\"/>\n",
              "    <path d=\"M18.56 5.44l.94 2.06.94-2.06 2.06-.94-2.06-.94-.94-2.06-.94 2.06-2.06.94zm-11 1L8.5 8.5l.94-2.06 2.06-.94-2.06-.94L8.5 2.5l-.94 2.06-2.06.94zm10 10l.94 2.06.94-2.06 2.06-.94-2.06-.94-.94-2.06-.94 2.06-2.06.94z\"/><path d=\"M17.41 7.96l-1.37-1.37c-.4-.4-.92-.59-1.43-.59-.52 0-1.04.2-1.43.59L10.3 9.45l-7.72 7.72c-.78.78-.78 2.05 0 2.83L4 21.41c.39.39.9.59 1.41.59.51 0 1.02-.2 1.41-.59l7.78-7.78 2.81-2.81c.8-.78.8-2.07 0-2.86zM5.41 20L4 18.59l7.72-7.72 1.47 1.35L5.41 20z\"/>\n",
              "  </svg>\n",
              "      </button>\n",
              "      \n",
              "  <style>\n",
              "    .colab-df-container {\n",
              "      display:flex;\n",
              "      flex-wrap:wrap;\n",
              "      gap: 12px;\n",
              "    }\n",
              "\n",
              "    .colab-df-convert {\n",
              "      background-color: #E8F0FE;\n",
              "      border: none;\n",
              "      border-radius: 50%;\n",
              "      cursor: pointer;\n",
              "      display: none;\n",
              "      fill: #1967D2;\n",
              "      height: 32px;\n",
              "      padding: 0 0 0 0;\n",
              "      width: 32px;\n",
              "    }\n",
              "\n",
              "    .colab-df-convert:hover {\n",
              "      background-color: #E2EBFA;\n",
              "      box-shadow: 0px 1px 2px rgba(60, 64, 67, 0.3), 0px 1px 3px 1px rgba(60, 64, 67, 0.15);\n",
              "      fill: #174EA6;\n",
              "    }\n",
              "\n",
              "    [theme=dark] .colab-df-convert {\n",
              "      background-color: #3B4455;\n",
              "      fill: #D2E3FC;\n",
              "    }\n",
              "\n",
              "    [theme=dark] .colab-df-convert:hover {\n",
              "      background-color: #434B5C;\n",
              "      box-shadow: 0px 1px 3px 1px rgba(0, 0, 0, 0.15);\n",
              "      filter: drop-shadow(0px 1px 2px rgba(0, 0, 0, 0.3));\n",
              "      fill: #FFFFFF;\n",
              "    }\n",
              "  </style>\n",
              "\n",
              "      <script>\n",
              "        const buttonEl =\n",
              "          document.querySelector('#df-582f454e-d897-42bc-b0bd-07c324a1368c button.colab-df-convert');\n",
              "        buttonEl.style.display =\n",
              "          google.colab.kernel.accessAllowed ? 'block' : 'none';\n",
              "\n",
              "        async function convertToInteractive(key) {\n",
              "          const element = document.querySelector('#df-582f454e-d897-42bc-b0bd-07c324a1368c');\n",
              "          const dataTable =\n",
              "            await google.colab.kernel.invokeFunction('convertToInteractive',\n",
              "                                                     [key], {});\n",
              "          if (!dataTable) return;\n",
              "\n",
              "          const docLinkHtml = 'Like what you see? Visit the ' +\n",
              "            '<a target=\"_blank\" href=https://colab.research.google.com/notebooks/data_table.ipynb>data table notebook</a>'\n",
              "            + ' to learn more about interactive tables.';\n",
              "          element.innerHTML = '';\n",
              "          dataTable['output_type'] = 'display_data';\n",
              "          await google.colab.output.renderOutput(dataTable, element);\n",
              "          const docLink = document.createElement('div');\n",
              "          docLink.innerHTML = docLinkHtml;\n",
              "          element.appendChild(docLink);\n",
              "        }\n",
              "      </script>\n",
              "    </div>\n",
              "  </div>\n",
              "  "
            ]
          },
          "metadata": {},
          "execution_count": 52
        }
      ]
    },
    {
      "cell_type": "markdown",
      "metadata": {
        "id": "j3z_mpZK3IQ8"
      },
      "source": [
        "##Conclusion and Recommendations\n",
        "**Conclusion**\n",
        "\n",
        "Twitter sentiment analysis is a process of determining the emotional tone behind a collection of tweets. The output of sentiment analysis is a sentiment score which can be positive, negative, or neutral. Twitter sentiment analysis can be used in various fields such as business, politics, and social media monitoring. In business, companies can use sentiment analysis to track public opinion about their brand, products, and services. In politics, sentiment analysis can be used to track public opinion about political candidates, parties, and policies. In social media monitoring, sentiment analysis can be used to track public opinion about current events, trending topics, and breaking news.\n",
        "\n",
        "This study aims to us to analyze the sentiment which can be positive, negative, or neutral. So that it can be applied in required field.\n",
        "\n",
        "The analysis yielded several key findings, including:\n",
        "* The analysis suggested to make tweets sentiment positive or negative the requirement of words is more and on the other hand neutral tweets have comparatively less no of words required.\n",
        "* Tweets with a negative sentiment and positive sentiment use more unique words compared to tweets with a neutral sentiment.\n",
        "* By the countplot of number of tweets on particular date, we can figure out if theres any major news break or any factor that can effect the mass population. \n",
        "\n"
      ]
    }
  ]
}